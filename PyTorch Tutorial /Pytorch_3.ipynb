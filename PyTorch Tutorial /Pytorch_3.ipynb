{
 "cells": [
  {
   "cell_type": "markdown",
   "id": "7f1d5c59-956c-46da-8b2f-11bea7d405ec",
   "metadata": {},
   "source": [
    "# Building Neural Network "
   ]
  },
  {
   "cell_type": "markdown",
   "id": "a5b2de70-fd6f-460c-adc8-870bf7f0792c",
   "metadata": {},
   "source": [
    "- get all functionality by importing `torch.nn`.\n",
    "- get access to layers by subclassing the `nn.Module`\n",
    "> \"A neural network is a module itself that consists of other modules (layers).\""
   ]
  },
  {
   "cell_type": "code",
   "execution_count": 1,
   "id": "2540d87b-768b-4aee-8034-35a4cb2ddb1f",
   "metadata": {},
   "outputs": [],
   "source": [
    "import os \n",
    "import torch \n",
    "from torch import nn\n",
    "from torch.utils.data import DataLoader\n",
    "from torchvision import datasets, transforms"
   ]
  },
  {
   "cell_type": "markdown",
   "id": "5e57d46a-057f-4acf-8ed7-0fef6cb09bc9",
   "metadata": {},
   "source": [
    "## 1. `Get device for training` \n",
    "\n",
    "- check if GPU or MPS is available or work with CPU "
   ]
  },
  {
   "cell_type": "code",
   "execution_count": 11,
   "id": "8bb0a8a7-72f4-4acb-aa6c-2110a569f243",
   "metadata": {},
   "outputs": [
    {
     "name": "stdout",
     "output_type": "stream",
     "text": [
      "Using cpu device\n"
     ]
    }
   ],
   "source": [
    "device = (\n",
    "    \"cuda\"\n",
    "    if torch.cuda.is_available()\n",
    "    else \"mps\"\n",
    "    if torch.backends.mps.is_available()\n",
    "    else \"cpu\"\n",
    ")\n",
    "print(f\"Using {device} device\")"
   ]
  },
  {
   "cell_type": "markdown",
   "id": "018a44b2-3b95-438e-a4ee-16464dccd1f2",
   "metadata": {},
   "source": [
    "## 2. Define the class\n",
    "\n",
    "- define neural network by subclassing `nn.Module`, and intialize with `__init__`."
   ]
  },
  {
   "cell_type": "code",
   "execution_count": 19,
   "id": "bc29a977-3410-4be5-a717-c2e1d20c038b",
   "metadata": {},
   "outputs": [],
   "source": [
    "class NeuralNetwork(nn.Module):\n",
    "    def __init__(self):\n",
    "        super().__init__()\n",
    "        self.flatten = nn.Flatten()\n",
    "        self.linear_relu_stack = nn.Sequential(\n",
    "            nn.Linear(28*28, 512),  # input, output\n",
    "            nn.ReLU(),\n",
    "            nn.Linear(512, 512),\n",
    "            nn.ReLU(),\n",
    "            nn.Linear(512, 10),  # 10 classes \n",
    "        )\n",
    "\n",
    "    def forward(self, x):   \n",
    "        x = self.flatten(x)\n",
    "        logits = self.linear_relu_stack(x)\n",
    "        return logits "
   ]
  },
  {
   "cell_type": "markdown",
   "id": "92ee2a4e-8437-4f0b-9c62-4c2c48ff5adb",
   "metadata": {},
   "source": [
    "> ___NOTE___ - In PyTorch, **linear_relu_stack** isn't a built-in class but rather a common pattern used in defining neural network layers. It typically refers to a sequence of linear layers followed by ReLU (Rectified Linear Unit) activations, stacked together in a neural network module"
   ]
  },
  {
   "cell_type": "code",
   "execution_count": 20,
   "id": "ce23b10e-c5f7-49cf-bfd9-cb1dd2cb780b",
   "metadata": {},
   "outputs": [
    {
     "name": "stdout",
     "output_type": "stream",
     "text": [
      "NeuralNetwork(\n",
      "  (flatten): Flatten(start_dim=1, end_dim=-1)\n",
      "  (linear_relu_stack): Sequential(\n",
      "    (0): Linear(in_features=784, out_features=512, bias=True)\n",
      "    (1): ReLU()\n",
      "    (2): Linear(in_features=512, out_features=512, bias=True)\n",
      "    (3): ReLU()\n",
      "    (4): Linear(in_features=512, out_features=10, bias=True)\n",
      "  )\n",
      ")\n"
     ]
    }
   ],
   "source": [
    "model = NeuralNetwork().to(device)\n",
    "print(model)"
   ]
  },
  {
   "cell_type": "code",
   "execution_count": 21,
   "id": "950cd4fd-9f99-414c-a108-50177fde1e8e",
   "metadata": {},
   "outputs": [
    {
     "name": "stdout",
     "output_type": "stream",
     "text": [
      "Predicted class: tensor([2])\n"
     ]
    }
   ],
   "source": [
    "X = torch.rand(1, 28, 28, device=device) # random matrix of 28*28 imitating FashionMnist dataset\n",
    "logits = model(X)\n",
    "pred_probab = nn.Softmax(dim=1)(logits)\n",
    "y_pred = pred_probab.argmax(1)\n",
    "print(f\"Predicted class: {y_pred}\")"
   ]
  },
  {
   "cell_type": "code",
   "execution_count": null,
   "id": "e565b167-1d53-44a9-bd87-b2b863939020",
   "metadata": {},
   "outputs": [],
   "source": []
  }
 ],
 "metadata": {
  "kernelspec": {
   "display_name": "Python 3 (ipykernel)",
   "language": "python",
   "name": "python3"
  },
  "language_info": {
   "codemirror_mode": {
    "name": "ipython",
    "version": 3
   },
   "file_extension": ".py",
   "mimetype": "text/x-python",
   "name": "python",
   "nbconvert_exporter": "python",
   "pygments_lexer": "ipython3",
   "version": "3.12.0"
  }
 },
 "nbformat": 4,
 "nbformat_minor": 5
}
