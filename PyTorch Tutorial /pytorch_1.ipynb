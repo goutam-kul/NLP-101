{
 "cells": [
  {
   "cell_type": "markdown",
   "id": "4afb3237-006c-4a9e-8144-6bb50203e064",
   "metadata": {
    "jp-MarkdownHeadingCollapsed": true
   },
   "source": [
    "## LESSON - 1  Tensors\n",
    "\n",
    "- Tensors are specialized data structures similar to arrays and matrices. They are almost like numpy arrays, except they can run in GPU or other hardware accelarators(TPU)."
   ]
  },
  {
   "cell_type": "code",
   "execution_count": 55,
   "id": "0ec0a4d4-3824-44a6-9f82-4a7f2ab6b7e6",
   "metadata": {},
   "outputs": [],
   "source": [
    "import torch \n",
    "import numpy as np"
   ]
  },
  {
   "cell_type": "markdown",
   "id": "eac8a9d5-bbff-41ff-8827-16415b0ae2ea",
   "metadata": {
    "jp-MarkdownHeadingCollapsed": true
   },
   "source": [
    "# 1. `Directly from data`"
   ]
  },
  {
   "cell_type": "code",
   "execution_count": 56,
   "id": "e8920b84-8543-4372-967e-b49bc017bb50",
   "metadata": {},
   "outputs": [
    {
     "name": "stdout",
     "output_type": "stream",
     "text": [
      "tensor([[1, 2, 3],\n",
      "        [4, 5, 6]])\n"
     ]
    }
   ],
   "source": [
    "data = [[1,2,3], [4,5,6]]\n",
    "x_data = torch.tensor(data)\n",
    "print(x_data)"
   ]
  },
  {
   "cell_type": "markdown",
   "id": "1630d64d-4399-483c-845b-111c2d06bd29",
   "metadata": {
    "jp-MarkdownHeadingCollapsed": true
   },
   "source": [
    "# 2. `From a Numpy array`"
   ]
  },
  {
   "cell_type": "code",
   "execution_count": 57,
   "id": "c28f314b-2afb-4ea7-aa05-14a635aadb90",
   "metadata": {},
   "outputs": [
    {
     "name": "stdout",
     "output_type": "stream",
     "text": [
      "tensor([[1, 2, 3],\n",
      "        [4, 5, 6]])\n"
     ]
    }
   ],
   "source": [
    "np_array = np.array(data)\n",
    "x_np = torch.from_numpy(np_array)\n",
    "print(x_np)"
   ]
  },
  {
   "cell_type": "markdown",
   "id": "3e9e6470-30e1-4e09-9da8-5e53ec770bda",
   "metadata": {},
   "source": [
    "# 3. `From Another Tensors`"
   ]
  },
  {
   "cell_type": "code",
   "execution_count": 58,
   "id": "4f87ba52-f673-4d50-ae86-038e478189e7",
   "metadata": {},
   "outputs": [
    {
     "name": "stdout",
     "output_type": "stream",
     "text": [
      "Ones Tensor: \n",
      " tensor([[1, 1, 1],\n",
      "        [1, 1, 1]]) \n",
      "\n",
      "Random Tensor: \n",
      " tensor([[0.7459, 0.6502, 0.8230],\n",
      "        [0.4077, 0.0247, 0.4284]]) \n",
      "\n"
     ]
    }
   ],
   "source": [
    "x_ones = torch.ones_like(x_data)  # retains the property of x_data\n",
    "print(f\"Ones Tensor: \\n {x_ones} \\n\")\n",
    "\n",
    "x_rand = torch.rand_like(x_data, dtype=torch.float) # overrides the datatype of x_data\n",
    "print(f\"Random Tensor: \\n {x_rand} \\n\")"
   ]
  },
  {
   "cell_type": "markdown",
   "id": "b2d00fab-b846-49f1-ad3e-952be404696b",
   "metadata": {},
   "source": [
    "# 4. `With Random or Constant Values`"
   ]
  },
  {
   "cell_type": "code",
   "execution_count": 59,
   "id": "376a98cd-6f00-4e2e-b18b-5b45ec3cd695",
   "metadata": {},
   "outputs": [
    {
     "name": "stdout",
     "output_type": "stream",
     "text": [
      "Random Tensor: \n",
      " tensor([[[0.3141, 0.5546],\n",
      "         [0.4442, 0.6329],\n",
      "         [0.9102, 0.1334]],\n",
      "\n",
      "        [[0.1368, 0.5034],\n",
      "         [0.5084, 0.0671],\n",
      "         [0.8321, 0.1587]]]) \n",
      "\n",
      "Ones Tensor: \n",
      " tensor([[[1., 1.],\n",
      "         [1., 1.],\n",
      "         [1., 1.]],\n",
      "\n",
      "        [[1., 1.],\n",
      "         [1., 1.],\n",
      "         [1., 1.]]]) \n",
      "\n",
      "Zeros Tensor: \n",
      " tensor([[[0., 0.],\n",
      "         [0., 0.],\n",
      "         [0., 0.]],\n",
      "\n",
      "        [[0., 0.],\n",
      "         [0., 0.],\n",
      "         [0., 0.]]]) \n",
      "\n"
     ]
    }
   ],
   "source": [
    "shape = (2,3,2)     # 3x2 shape and 2 is batch size \n",
    "rand_tensor = torch.rand(shape)\n",
    "ones_tensor = torch.ones(shape)\n",
    "zeros_tensor = torch.zeros(shape)\n",
    "\n",
    "print(f\"Random Tensor: \\n {rand_tensor} \\n\")\n",
    "print(f\"Ones Tensor: \\n {ones_tensor} \\n\")\n",
    "print(f\"Zeros Tensor: \\n {zeros_tensor} \\n\")"
   ]
  },
  {
   "cell_type": "markdown",
   "id": "a854cc2f-4e15-4542-b211-788612a21657",
   "metadata": {
    "jp-MarkdownHeadingCollapsed": true
   },
   "source": [
    "# 5. `Attribute of a Tensor`\n",
    "\n",
    "- Tensor attributes describe their shape, datatype, and the device on which they are stored."
   ]
  },
  {
   "cell_type": "code",
   "execution_count": 60,
   "id": "bf02c2f2-9cd7-47db-a9cf-90fc52a05945",
   "metadata": {},
   "outputs": [
    {
     "name": "stdout",
     "output_type": "stream",
     "text": [
      "Shape of tensor: torch.Size([3, 4])\n",
      "Datatype of tensor: torch.float32\n",
      "Device tensor is stored on: cpu\n"
     ]
    }
   ],
   "source": [
    "tensor = torch.rand(3, 4)\n",
    "\n",
    "print(f\"Shape of tensor: {tensor.shape}\")\n",
    "print(f\"Datatype of tensor: {tensor.dtype:}\")\n",
    "print(f\"Device tensor is stored on: {tensor.device:}\")"
   ]
  },
  {
   "cell_type": "markdown",
   "id": "6c33f816-b996-49a7-aaad-24c12b3ca79c",
   "metadata": {
    "jp-MarkdownHeadingCollapsed": true
   },
   "source": [
    "# 6. `Operations on Tensors`\n",
    "\n",
    "- Over 100 tensor oprations; arithmetic, linear algebra, matrix manipulation(transpose, indexing, slicing) sampling and more. Each operation can run on GPU(higher speed) and CPU(lower speed). By default tensors are created on CPU.\n",
    "- Explicitly move tensors to GPU using `.to` method(after checking the availability)."
   ]
  },
  {
   "cell_type": "code",
   "execution_count": 61,
   "id": "e06a2c86-fe3f-4dba-9bd8-16bd0de75d98",
   "metadata": {},
   "outputs": [],
   "source": [
    "if torch.cuda.is_available():\n",
    "    tensor = tensor.to(\"cuda\")"
   ]
  },
  {
   "cell_type": "markdown",
   "id": "4336723f-ca5a-4c20-bfba-c36b4c6dd746",
   "metadata": {},
   "source": [
    "1. `standard numpy like indexing and slicing`"
   ]
  },
  {
   "cell_type": "code",
   "execution_count": 62,
   "id": "03b35eed-7e5a-4912-84fb-6a09e796a435",
   "metadata": {},
   "outputs": [
    {
     "name": "stdout",
     "output_type": "stream",
     "text": [
      "First row: tensor([1., 1., 1., 1.])\n",
      "First column: tensor([1., 1., 1., 1.])\n",
      "Last column: tensor([1., 1., 1., 1.])\n",
      "tensor([[1., 0., 1., 1.],\n",
      "        [1., 0., 1., 1.],\n",
      "        [1., 0., 1., 1.],\n",
      "        [1., 0., 1., 1.]])\n"
     ]
    }
   ],
   "source": [
    "tensor = torch.ones(4,4)\n",
    "print(f\"First row: {tensor[0]}\")\n",
    "print(f\"First column: {tensor[:, 0]}\")\n",
    "print(f\"Last column: {tensor[...,-1]}\")\n",
    "tensor[:,1] = 0\n",
    "print(tensor)"
   ]
  },
  {
   "cell_type": "markdown",
   "id": "1f8597ef-748e-477a-a8fd-a8d97f89a2fb",
   "metadata": {},
   "source": [
    "2. `Joining Tensor` using `torch.cat` "
   ]
  },
  {
   "cell_type": "code",
   "execution_count": 63,
   "id": "8f1f02c3-522f-4b02-aafd-52f073fe873b",
   "metadata": {},
   "outputs": [
    {
     "name": "stdout",
     "output_type": "stream",
     "text": [
      "tensor([[1., 0., 1., 1., 1., 0., 1., 1., 1., 0., 1., 1.],\n",
      "        [1., 0., 1., 1., 1., 0., 1., 1., 1., 0., 1., 1.],\n",
      "        [1., 0., 1., 1., 1., 0., 1., 1., 1., 0., 1., 1.],\n",
      "        [1., 0., 1., 1., 1., 0., 1., 1., 1., 0., 1., 1.]])\n"
     ]
    }
   ],
   "source": [
    "t1 = torch.cat([tensor, tensor, tensor], dim=1)\n",
    "print(t1)"
   ]
  },
  {
   "cell_type": "markdown",
   "id": "baa7b8f7-9fa8-4e25-b63f-577b6a6c4b04",
   "metadata": {},
   "source": [
    "3. `Arithmetic Operations`"
   ]
  },
  {
   "cell_type": "code",
   "execution_count": 64,
   "id": "20d2526f-57a5-4f8c-9179-8c8b3879e9b5",
   "metadata": {},
   "outputs": [
    {
     "name": "stdout",
     "output_type": "stream",
     "text": [
      "tensor([[1., 0., 1., 1.],\n",
      "        [1., 0., 1., 1.],\n",
      "        [1., 0., 1., 1.],\n",
      "        [1., 0., 1., 1.]])\n"
     ]
    }
   ],
   "source": [
    "# This computed the matrix multiplication between two tensors. y1, y2, y3 will have the same value\n",
    "# ``tensor.T`` return the transpose fo a tensor\n",
    "\n",
    "\n",
    "y1 = tensor @ tensor.T\n",
    "y2 = tensor.matmul(tensor.T)\n",
    "\n",
    "y3 = torch.rand_like(y1)\n",
    "torch.matmul(tensor, tensor.T, out=y3)\n",
    "\n",
    "# This computes the element-wise product, z1, z2, z3 will have the same value\n",
    "z1 = tensor * tensor\n",
    "z2 = tensor.mul(tensor)\n",
    "\n",
    "z3 = torch.rand_like(tensor)\n",
    "print(torch.mul(tensor, tensor, out=z3))"
   ]
  },
  {
   "cell_type": "markdown",
   "id": "a21c7745-a2dd-4a54-9e3f-c28eb79fffb0",
   "metadata": {},
   "source": [
    "`Single Element Tensor`"
   ]
  },
  {
   "cell_type": "code",
   "execution_count": 65,
   "id": "df4adb35-a258-445e-8f03-3b50b1aa836c",
   "metadata": {},
   "outputs": [
    {
     "name": "stdout",
     "output_type": "stream",
     "text": [
      "12.0 <class 'float'>\n"
     ]
    }
   ],
   "source": [
    "agg = tensor.sum()\n",
    "agg_item = agg.item()\n",
    "print(agg_item, type(agg_item))"
   ]
  },
  {
   "cell_type": "markdown",
   "id": "3bf77f87-0064-492a-aeef-0aa9daa31cac",
   "metadata": {},
   "source": [
    "`In-Place operations` Operations that store the result into the o"
   ]
  },
  {
   "cell_type": "code",
   "execution_count": 66,
   "id": "e54120cf-4872-4e34-a0ba-363e7474b2c9",
   "metadata": {},
   "outputs": [
    {
     "name": "stdout",
     "output_type": "stream",
     "text": [
      "tensor([[1., 0., 1., 1.],\n",
      "        [1., 0., 1., 1.],\n",
      "        [1., 0., 1., 1.],\n",
      "        [1., 0., 1., 1.]]) \n",
      "\n",
      "tensor([[6., 5., 6., 6.],\n",
      "        [6., 5., 6., 6.],\n",
      "        [6., 5., 6., 6.],\n",
      "        [6., 5., 6., 6.]])\n"
     ]
    }
   ],
   "source": [
    "print(f\"{tensor} \\n\")\n",
    "tensor.add_(5)\n",
    "print(tensor)"
   ]
  },
  {
   "cell_type": "markdown",
   "id": "1e999845-c53c-4de6-9683-7b6928102841",
   "metadata": {
    "jp-MarkdownHeadingCollapsed": true
   },
   "source": [
    "# 7. `Bridge with Numpy` "
   ]
  },
  {
   "cell_type": "markdown",
   "id": "ef7957ac-35df-4573-b1a0-9a554a09b32e",
   "metadata": {},
   "source": [
    "- `Tensor to numpy array`"
   ]
  },
  {
   "cell_type": "code",
   "execution_count": 70,
   "id": "5c981595-f455-4218-a7aa-1e7429bb0b8d",
   "metadata": {},
   "outputs": [
    {
     "name": "stdout",
     "output_type": "stream",
     "text": [
      "t:tensor([1., 1., 1., 1., 1.])\n",
      "n: [1. 1. 1. 1. 1.]\n"
     ]
    }
   ],
   "source": [
    "t = torch.ones(5)\n",
    "print(f\"t:{t}\")\n",
    "n = t.numpy()\n",
    "print(f\"n: {n}\")"
   ]
  },
  {
   "cell_type": "markdown",
   "id": "92a5a121-3aaa-4f32-bd75-fa91e936f0d9",
   "metadata": {},
   "source": [
    "# what we learned\n",
    "\n",
    "- we learned how to create tensors from data, how to convert numpy arrays into tensors.\n",
    "- create new similar tensors from another tensors >> using `.ones_like`, `rand_like` etc.\n",
    "- create tensors with random or constant values >> using `.rand`, `.ones`, `zeros` \n",
    "- attributes of tensors >> `.shape`, `.dtype`, `.device`\n",
    "- operations done on tensors >> `cat`, `matmul`, `mul` etc.\n",
    "- bridge with numpy >> how to convert tensors to numpy arrays "
   ]
  },
  {
   "cell_type": "code",
   "execution_count": null,
   "id": "add921e8-fc22-45c4-bcb3-48f9d24c12ff",
   "metadata": {},
   "outputs": [],
   "source": []
  }
 ],
 "metadata": {
  "kernelspec": {
   "display_name": "Python 3 (ipykernel)",
   "language": "python",
   "name": "python3"
  },
  "language_info": {
   "codemirror_mode": {
    "name": "ipython",
    "version": 3
   },
   "file_extension": ".py",
   "mimetype": "text/x-python",
   "name": "python",
   "nbconvert_exporter": "python",
   "pygments_lexer": "ipython3",
   "version": "3.12.0"
  }
 },
 "nbformat": 4,
 "nbformat_minor": 5
}
