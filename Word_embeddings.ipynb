{
 "cells": [
  {
   "cell_type": "markdown",
   "id": "ccbcec23-28d8-4e26-8726-c9651668aa10",
   "metadata": {},
   "source": [
    "# Word Embeddings \n",
    "\n",
    "- Word embedding is a technique to convert words into vectors. Since we can't just directly feed natural language into our models, we have to convert the natural language into some kind of mathematical representation and that is where word embedding techniques come.\n",
    "- In general there are two main types of word embeddings and that are :\n",
    "  - `Frequency based` : Uses word frequency to convert them to vectors\n",
    "  - `Prediction based` : Used Machine learning to convert word into vectors\n"
   ]
  },
  {
   "cell_type": "code",
   "execution_count": 1,
   "id": "dcad6c4f-2bc5-4dfc-9b1b-58627322ca0e",
   "metadata": {},
   "outputs": [
    {
     "ename": "ModuleNotFoundError",
     "evalue": "No module named 'nltk'",
     "output_type": "error",
     "traceback": [
      "\u001b[0;31m---------------------------------------------------------------------------\u001b[0m",
      "\u001b[0;31mModuleNotFoundError\u001b[0m                       Traceback (most recent call last)",
      "Cell \u001b[0;32mIn[1], line 2\u001b[0m\n\u001b[1;32m      1\u001b[0m \u001b[38;5;28;01mimport\u001b[39;00m \u001b[38;5;21;01mre\u001b[39;00m \n\u001b[0;32m----> 2\u001b[0m \u001b[38;5;28;01mimport\u001b[39;00m \u001b[38;5;21;01mnltk\u001b[39;00m \n\u001b[1;32m      3\u001b[0m \u001b[38;5;28;01mfrom\u001b[39;00m \u001b[38;5;21;01msklearn\u001b[39;00m\u001b[38;5;21;01m.\u001b[39;00m\u001b[38;5;21;01mpreprocessing\u001b[39;00m \u001b[38;5;28;01mimport\u001b[39;00m OneHotEncoding\n",
      "\u001b[0;31mModuleNotFoundError\u001b[0m: No module named 'nltk'"
     ]
    }
   ],
   "source": [
    "import re \n",
    "import nltk \n",
    "from sklearn.preprocessing import OneHotEncoding"
   ]
  },
  {
   "cell_type": "markdown",
   "id": "14b9c039-d405-4aef-9d22-a1ce9b40d9fe",
   "metadata": {},
   "source": [
    "# Frquency Based Word Embeddings \n",
    "\n",
    "> Utilizes the frequency of words to encode them into vectors.\n",
    "\n",
    "1. One Hot Encoding\n",
    "2. Count vectorizer (Bag of words)\n",
    "3. TF-IDF vectorizer"
   ]
  },
  {
   "cell_type": "markdown",
   "id": "e244e181-1124-4c39-9688-bcc90f28496e",
   "metadata": {},
   "source": [
    "## 1. One Hot Encoding "
   ]
  },
  {
   "cell_type": "code",
   "execution_count": null,
   "id": "3fcecdb1-d0f0-4951-85b7-e477c429f80b",
   "metadata": {},
   "outputs": [],
   "source": [
    "from sklearn.pre"
   ]
  }
 ],
 "metadata": {
  "kernelspec": {
   "display_name": "Python 3 (ipykernel)",
   "language": "python",
   "name": "python3"
  },
  "language_info": {
   "codemirror_mode": {
    "name": "ipython",
    "version": 3
   },
   "file_extension": ".py",
   "mimetype": "text/x-python",
   "name": "python",
   "nbconvert_exporter": "python",
   "pygments_lexer": "ipython3",
   "version": "3.11.0"
  }
 },
 "nbformat": 4,
 "nbformat_minor": 5
}
